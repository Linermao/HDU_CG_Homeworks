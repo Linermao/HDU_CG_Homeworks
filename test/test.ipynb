{
 "cells": [
  {
   "cell_type": "code",
   "execution_count": 3,
   "metadata": {},
   "outputs": [],
   "source": [
    "import OpenGL\n",
    "from OpenGL.GL import *\n",
    "from OpenGL.GLU import *\n",
    "from OpenGL.GLUT import *"
   ]
  },
  {
   "cell_type": "code",
   "execution_count": 4,
   "metadata": {},
   "outputs": [
    {
     "name": "stderr",
     "output_type": "stream",
     "text": [
      "Exception ignored on calling ctypes callback function: <function showScreen at 0x10615e9e0>\n",
      "Traceback (most recent call last):\n",
      "  File \"/var/folders/qh/wn73wsvn721_zw4z05322lkm0000gn/T/ipykernel_92334/4258084930.py\", line 24, in showScreen\n",
      "KeyboardInterrupt: \n",
      "Exception ignored on calling ctypes callback function: <function showScreen at 0x10615e9e0>\n",
      "Traceback (most recent call last):\n",
      "  File \"/var/folders/qh/wn73wsvn721_zw4z05322lkm0000gn/T/ipykernel_92334/4258084930.py\", line 24, in showScreen\n",
      "KeyboardInterrupt: \n"
     ]
    }
   ],
   "source": [
    "w,h= 500,500\n",
    "def square():\n",
    "    glBegin(GL_QUADS)\n",
    "    glVertex2f(100, 100)\n",
    "    glVertex2f(200, 100)\n",
    "    glVertex2f(200, 200)\n",
    "    glVertex2f(100, 200)\n",
    "    glEnd()\n",
    "\n",
    "def iterate():\n",
    "    glViewport(0, 0, 500, 500)\n",
    "    glMatrixMode(GL_PROJECTION)\n",
    "    glLoadIdentity()\n",
    "    glOrtho(0.0, 500, 0.0, 500, 0.0, 1.0)\n",
    "    glMatrixMode (GL_MODELVIEW)\n",
    "    glLoadIdentity()\n",
    "\n",
    "def showScreen():\n",
    "    glClear(GL_COLOR_BUFFER_BIT | GL_DEPTH_BUFFER_BIT)\n",
    "    glLoadIdentity()\n",
    "    iterate()\n",
    "    glColor3f(1.0, 0.0, 3.0)\n",
    "    square()\n",
    "    glutSwapBuffers()\n",
    "\n",
    "glutInit()\n",
    "glutInitDisplayMode(GLUT_RGBA)\n",
    "glutInitWindowSize(500, 500)\n",
    "glutInitWindowPosition(0, 0)\n",
    "wind = glutCreateWindow(\"OpenGL Coding Practice\")\n",
    "glutDisplayFunc(showScreen)\n",
    "glutIdleFunc(showScreen)\n",
    "glutMainLoop()"
   ]
  }
 ],
 "metadata": {
  "kernelspec": {
   "display_name": "CG",
   "language": "python",
   "name": "python3"
  },
  "language_info": {
   "codemirror_mode": {
    "name": "ipython",
    "version": 3
   },
   "file_extension": ".py",
   "mimetype": "text/x-python",
   "name": "python",
   "nbconvert_exporter": "python",
   "pygments_lexer": "ipython3",
   "version": "3.10.13"
  }
 },
 "nbformat": 4,
 "nbformat_minor": 2
}
